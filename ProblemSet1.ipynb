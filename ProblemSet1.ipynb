{
 "cells": [
  {
   "cell_type": "markdown",
   "id": "e0ebbb44",
   "metadata": {
    "slideshow": {
     "slide_type": "slide"
    }
   },
   "source": [
    "# BDAT 1004 | Problem Set 1"
   ]
  },
  {
   "cell_type": "markdown",
   "id": "10e866b5",
   "metadata": {
    "slideshow": {
     "slide_type": "slide"
    }
   },
   "source": [
    "<h3><font color='#5E5E5E'>Question 1</font></h3>\n",
    "\n",
    "<li>5 - Integer</li>\n",
    "<li>5.0 - Float</li>\n",
    "<li>5 > 1 = True - Boolean</li>\n",
    "<li>'5' - String</li>\n",
    "<li>5 * 2 = 10 - Integer</li>\n",
    "<li>'5' * 2 - String</li>\n",
    "<li>'5' + '2' - String</li>\n",
    "<li>5 % 2 = 1</li>\n",
    "<li>{5, 2, 1} - Set</li>\n",
    "<li>5 == 3 = False - Boolean</li>\n",
    "<li>Pi (the number) - Float</li>"
   ]
  },
  {
   "cell_type": "markdown",
   "id": "07d79d47",
   "metadata": {},
   "source": [
    "<h3><font color='#5E5E5E'>Question 2</font></h3>\n",
    "\n"
   ]
  },
  {
   "cell_type": "code",
   "execution_count": 1,
   "id": "a14d6a9f",
   "metadata": {},
   "outputs": [
    {
     "name": "stdout",
     "output_type": "stream",
     "text": [
      "34\n",
      "True\n",
      "Supercalifragilisticexpialidocious\n",
      "Bartok\n",
      "Buxtehude\n"
     ]
    }
   ],
   "source": [
    "# How many letters are there in 'Supercalifragilisticexpialidocious'?\n",
    "str1 = 'Supercalifragilisticexpialidocious'\n",
    "print(len(str1))\n",
    "\n",
    "# Does 'Supercalifragilisticexpialidocious' contain 'ice' as a substring?\n",
    "print('ice' in str1)\n",
    "\n",
    "# Which of the following words is the longest: Supercalifragilisticexpialidocious, Honorificabilitudinitatibus, or Bababadalgharaghtakamminarronnkonn?\n",
    "# Reference: https://stackoverflow.com/questions/873327/pythons-most-efficient-way-to-choose-longest-string-in-list\n",
    "str2 = 'Honorificabilitudinitatibus'\n",
    "str3 = 'Bababadalgharaghtakamminarronnkonn'\n",
    "lst1 = [str1,str2,str3]\n",
    "\n",
    "print(max(lst1, key=len))\n",
    "\n",
    "# Which composer comes first in the dictionary: 'Berlioz', 'Borodin', 'Brian', 'Bartok', 'Bellini', 'Buxtehude', 'Bernstein'. Which one comes last?\n",
    "lst2 = ['Berlioz', 'Borodin', 'Brian', 'Bartok', 'Bellini', 'Buxtehude', 'Bernstein']\n",
    "print(min(lst2))\n",
    "print(max(lst2))"
   ]
  },
  {
   "cell_type": "markdown",
   "id": "6b6bb9b3",
   "metadata": {},
   "source": [
    "<h3><font color='#5E5E5E'>Question 3</font></h3>\n",
    "\n",
    "<h3><font color='#7A7A7A'>Sides of a triangle</font></h3>\n",
    "\n"
   ]
  },
  {
   "cell_type": "code",
   "execution_count": 2,
   "id": "a3ba0bcb",
   "metadata": {},
   "outputs": [
    {
     "name": "stdout",
     "output_type": "stream",
     "text": [
      "Enter side 1: 5\n",
      "Enter side 2: 6\n",
      "Enter side 3: 7\n",
      "14.696938456699069\n"
     ]
    }
   ],
   "source": [
    "import math\n",
    "\n",
    "# Taking input of sides\n",
    "s1 = input('Enter side 1: ')\n",
    "s2 = input('Enter side 2: ')\n",
    "s3 = input('Enter side 3: ')\n",
    "\n",
    "a = int(s1)\n",
    "b = int(s2)\n",
    "c = int(s3)\n",
    "\n",
    "# Calculating s\n",
    "s = (int(s1) + int(s2) + int(s3))/2\n",
    "\n",
    "# Heron's formula\n",
    "temp = s * (s-a) * (s-b) * (s-c)\n",
    "print(math.sqrt(temp))"
   ]
  },
  {
   "cell_type": "markdown",
   "id": "41efe9d7",
   "metadata": {},
   "source": [
    "<h3><font color='#5E5E5E'>Question 4</font></h3>\n",
    "\n",
    "<h3><font color='#7A7A7A'>Separating odd and even numbers</font></h3>\n",
    "\n"
   ]
  },
  {
   "cell_type": "code",
   "execution_count": 3,
   "id": "372ac308",
   "metadata": {},
   "outputs": [
    {
     "name": "stdout",
     "output_type": "stream",
     "text": [
      "Enter the size of array: 3\n",
      "Enter array object: 5\n",
      "Enter array object: 6\n",
      "Enter array object: 7\n",
      "Array entered : \n",
      "[5, 6, 7]\n",
      "Even numbers:\n",
      "[6]\n",
      "Odd numbers:\n",
      "[5, 7]\n"
     ]
    }
   ],
   "source": [
    "# Taking inputs for the size or array and array items\n",
    "# Reference: https://stackoverflow.com/questions/7845165/how-to-take-input-in-an-array-python\n",
    "size = input('Enter the size of array: ')\n",
    "\n",
    "array = []\n",
    "for i in range(int(size)):\n",
    "    inp_obj = int(input('Enter array object: '))\n",
    "    \n",
    "    array.append(inp_obj)\n",
    "\n",
    "print(\"Array entered : \")\n",
    "print(array)\n",
    "\n",
    "# checking for ever/odd numbers\n",
    "evenarr = []\n",
    "oddarr = []\n",
    "\n",
    "for i in array:\n",
    "    if (i % 2) == 0:\n",
    "        even = i\n",
    "        evenarr.append(even)\n",
    "    else:\n",
    "        odd = i\n",
    "        oddarr.append(odd)\n",
    "        \n",
    "print('Even numbers:')\n",
    "print(evenarr)\n",
    "print('Odd numbers:')\n",
    "print(oddarr)"
   ]
  },
  {
   "cell_type": "markdown",
   "id": "45e8b8b4",
   "metadata": {},
   "source": [
    "<h3><font color='#5E5E5E'>Question 5</font></h3>\n",
    "\n",
    "<h3><font color='#7A7A7A'>Check if given position is inside a rectangle</font></h3>\n",
    "\n"
   ]
  },
  {
   "cell_type": "code",
   "execution_count": 4,
   "id": "9c253c90",
   "metadata": {},
   "outputs": [
    {
     "name": "stdout",
     "output_type": "stream",
     "text": [
      "Enter x1 :7\n",
      "Enter y1 :8\n",
      "Enter x2 :3\n",
      "Enter y2 :2\n",
      "Enter x :0\n",
      "Enter y :1\n",
      "False\n"
     ]
    }
   ],
   "source": [
    "# References : \n",
    "# https://math.stackexchange.com/questions/571762/how-to-find-out-if-a-point-lie-in-rectangle\n",
    "# https://stackoverflow.com/questions/31321032/python-test-if-point-is-in-rectangle\n",
    "\n",
    "\n",
    "def inside(x,y,x1,y1,x2,y2):\n",
    "    if x < x1 and x > 2 and y < y1 and y > y2:\n",
    "        return True\n",
    "    else:\n",
    "        return False\n",
    "\n",
    "# Taking inputs for coordinates (x1,y1,x2,y2)\n",
    "x1_temp = float(input('Enter x1 :'))\n",
    "y1_temp = float(input('Enter y1 :'))\n",
    "x2_temp = float(input('Enter x2 :'))\n",
    "y2_temp = float(input('Enter y2 :'))\n",
    "\n",
    "# Sorting the variables as per the vertices. i.e top left corner and bottom rigth corner coordinates of the rectangle\n",
    "if x1_temp > x2_temp:\n",
    "    x1 = x1_temp\n",
    "    x2 = x2_temp\n",
    "else:\n",
    "    x1 = x2_temp\n",
    "    x2 = x1_temp   \n",
    "    \n",
    "if y1_temp > y2_temp:\n",
    "    y1 = y1_temp\n",
    "    y2 = y2_temp\n",
    "else:\n",
    "    y1 = y2_temp\n",
    "    y2 = y1_temp   \n",
    "    \n",
    "# Taking input for the point to test (x,y)\n",
    "x = float(input('Enter x :'))\n",
    "y = float(input('Enter y :'))\n",
    "    \n",
    "print(inside(x,y,x1,y1,x2,y2))\n"
   ]
  },
  {
   "cell_type": "markdown",
   "id": "a2ffb8d7",
   "metadata": {},
   "source": [
    "\n",
    "<h3><font color='#5E5E5E'>Question 6</font></h3>\n",
    "\n",
    "<h3><font color='#7A7A7A'>Pig-Latin</font></h3>\n",
    "\n"
   ]
  },
  {
   "cell_type": "code",
   "execution_count": 5,
   "id": "9157f25c",
   "metadata": {},
   "outputs": [
    {
     "name": "stdout",
     "output_type": "stream",
     "text": [
      "Enter a string: Sleep\n",
      "leepsay\n"
     ]
    }
   ],
   "source": [
    "def pig(st):\n",
    "    if st[0] == 'a' or st[0] == 'e' or st[0] == 'i' or st[0] == 'o' or st[0] == 'u':\n",
    "        s = st + 'way'\n",
    "        print(s)\n",
    "    else:\n",
    "        s1=st[1:]\n",
    "        s2=st[:1]\n",
    "        s = s1 + s2 + 'ay'\n",
    "        print(s)\n",
    "        \n",
    "s = input('Enter a string: ')\n",
    "st = s.lower()\n",
    "pig(st)"
   ]
  },
  {
   "cell_type": "markdown",
   "id": "1c9923a3",
   "metadata": {},
   "source": [
    "<h3><font color='#5E5E5E'>Question 7</font></h3>\n",
    "\n",
    "<h3><font color='#7A7A7A'>Blood Type</font></h3>\n",
    "\n"
   ]
  },
  {
   "cell_type": "code",
   "execution_count": 6,
   "id": "585c876d",
   "metadata": {},
   "outputs": [
    {
     "name": "stdout",
     "output_type": "stream",
     "text": [
      "Occurance of A: \n",
      "15\n",
      "Occurance of B: \n",
      "1\n",
      "Occurance of AB: \n",
      "13\n",
      "Occurance of O: \n",
      "15\n",
      "Occurance of OO: \n",
      "0\n"
     ]
    }
   ],
   "source": [
    "def bldcount(x):\n",
    "    infile = open(x)\n",
    "    s = infile.read()\n",
    "    sp = s.split(\" \")\n",
    "    sp.pop()\n",
    "    print(\"Occurance of A: \")\n",
    "    print( sp.count('A'))\n",
    "    print(\"Occurance of B: \")\n",
    "    print( sp.count('B'))\n",
    "    print(\"Occurance of AB: \")\n",
    "    print( sp.count('AB'))\n",
    "    print(\"Occurance of O: \")\n",
    "    print( sp.count('O'))\n",
    "    print(\"Occurance of OO: \")\n",
    "    print( sp.count('OO'))\n",
    "    \n",
    "bldcount('bloodtype.txt')  "
   ]
  },
  {
   "cell_type": "markdown",
   "id": "e1f62dc2",
   "metadata": {},
   "source": [
    "<h3><font color='#5E5E5E'>Question 8</font></h3>\n",
    "\n",
    "<h3><font color='#7A7A7A'>Currency</font></h3>\n",
    "\n"
   ]
  },
  {
   "cell_type": "code",
   "execution_count": 9,
   "id": "115a0b38",
   "metadata": {},
   "outputs": [
    {
     "name": "stdout",
     "output_type": "stream",
     "text": [
      "Enter currency code: eur\n",
      "Enter amount: 100\n",
      "122.96544\n"
     ]
    }
   ],
   "source": [
    "# Reference:\n",
    "# https://stackoverflow.com/questions/11555468/how-should-i-read-a-file-line-by-line-in-python\n",
    "# https://betterprogramming.pub/10-ways-to-convert-lists-to-dictionaries-in-python-d2c728d2aeb8\n",
    "\n",
    "def  curconv(curr_code,convert_amt):\n",
    "    final = convert_amt * dictionary[curr_code]\n",
    "    return final\n",
    "\n",
    "infile = open('currency.txt', 'r')\n",
    "curr = []\n",
    "amt = []\n",
    "\n",
    "for line in infile:\n",
    "    sp = line.split(\"\t\")\n",
    "    sp.pop()\n",
    "    curr1 = sp[0]\n",
    "    curr.append(curr1)\n",
    "    amt1=sp[1]\n",
    "    amt.append(float(amt1))\n",
    "\n",
    "dictionary = dict(zip(curr,amt))\n",
    "\n",
    "curr_code1 = input('Enter currency code: ')\n",
    "curr_code = curr_code1.upper()\n",
    "convert_amt = int(input('Enter amount: '))\n",
    "\n",
    "print(curconv(curr_code,convert_amt))"
   ]
  },
  {
   "cell_type": "markdown",
   "id": "2de763d8",
   "metadata": {},
   "source": [
    "<h3><font color='#5E5E5E'>Question 9</font></h3>\n",
    "\n",
    "<li>Trying to add incompatible variables - Syntax Error</li>\n",
    "<li>Referring to the 12th item of a list that has only 10 items - Index Error</li>\n",
    "<li>Using a value that is out of range for a function’s input - Value Error</li>\n",
    "<li>Using an undeclared variable - Name Error</li>\n",
    "<li>Trying to open a file that does not exist, such as mistyping the file name or looking in the wrong directory.  - File not found Error</li>\n"
   ]
  },
  {
   "cell_type": "markdown",
   "id": "62aaf23a",
   "metadata": {},
   "source": [
    "<h3><font color='#5E5E5E'>Question 10</font></h3>\n",
    "\n",
    "<h3><font color='#7A7A7A'>Encryption</font></h3>\n",
    "\n"
   ]
  },
  {
   "cell_type": "code",
   "execution_count": 10,
   "id": "b8939312",
   "metadata": {},
   "outputs": [
    {
     "name": "stdout",
     "output_type": "stream",
     "text": [
      "Enter the string to encryptsleep\n",
      "[0, 0, 0, 0, 2, 0, 0, 0, 0, 0, 0, 1, 0, 0, 0, 1, 0, 0, 1, 0, 0, 0, 0, 0, 0, 0]\n"
     ]
    }
   ],
   "source": [
    "letters = 'abcdefghijklmnopqrstuvwxyz'\n",
    "\n",
    "arr = []\n",
    "def frequencies(code):\n",
    "    for char in letters:\n",
    "        x = code.count(char)\n",
    "        arr.append(x)\n",
    "    print(arr)\n",
    "\n",
    "code = input(\"Enter the string to encrypt\")\n",
    "    \n",
    "frequencies(code)"
   ]
  }
 ],
 "metadata": {
  "celltoolbar": "Slideshow",
  "kernelspec": {
   "display_name": "Python 3 (ipykernel)",
   "language": "python",
   "name": "python3"
  },
  "language_info": {
   "codemirror_mode": {
    "name": "ipython",
    "version": 3
   },
   "file_extension": ".py",
   "mimetype": "text/x-python",
   "name": "python",
   "nbconvert_exporter": "python",
   "pygments_lexer": "ipython3",
   "version": "3.9.12"
  }
 },
 "nbformat": 4,
 "nbformat_minor": 5
}
